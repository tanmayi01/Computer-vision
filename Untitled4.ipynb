{
  "nbformat": 4,
  "nbformat_minor": 0,
  "metadata": {
    "colab": {
      "provenance": []
    },
    "kernelspec": {
      "name": "python3",
      "display_name": "Python 3"
    },
    "language_info": {
      "name": "python"
    }
  },
  "cells": [
    {
      "cell_type": "code",
      "execution_count": 1,
      "metadata": {
        "colab": {
          "base_uri": "https://localhost:8080/"
        },
        "id": "JFPplT6UE0AI",
        "outputId": "1745c663-c236-421f-96bf-65ba7d10fe09"
      },
      "outputs": [
        {
          "output_type": "stream",
          "name": "stdout",
          "text": [
            "Collecting youtube-dl\n",
            "  Downloading youtube_dl-2021.12.17-py2.py3-none-any.whl (1.9 MB)\n",
            "\u001b[?25l     \u001b[90m━━━━━━━━━━━━━━━━━━━━━━━━━━━━━━━━━━━━━━━━\u001b[0m \u001b[32m0.0/1.9 MB\u001b[0m \u001b[31m?\u001b[0m eta \u001b[36m-:--:--\u001b[0m\r\u001b[2K     \u001b[91m━━━━━━\u001b[0m\u001b[90m╺\u001b[0m\u001b[90m━━━━━━━━━━━━━━━━━━━━━━━━━━━━━━━━━\u001b[0m \u001b[32m0.3/1.9 MB\u001b[0m \u001b[31m8.6 MB/s\u001b[0m eta \u001b[36m0:00:01\u001b[0m\r\u001b[2K     \u001b[91m━━━━━━━━━━━━━━━━━━━━━━━━━━━━━━━━━━━━━━━\u001b[0m\u001b[91m╸\u001b[0m \u001b[32m1.9/1.9 MB\u001b[0m \u001b[31m39.7 MB/s\u001b[0m eta \u001b[36m0:00:01\u001b[0m\r\u001b[2K     \u001b[90m━━━━━━━━━━━━━━━━━━━━━━━━━━━━━━━━━━━━━━━━\u001b[0m \u001b[32m1.9/1.9 MB\u001b[0m \u001b[31m26.2 MB/s\u001b[0m eta \u001b[36m0:00:00\u001b[0m\n",
            "\u001b[?25hInstalling collected packages: youtube-dl\n",
            "Successfully installed youtube-dl-2021.12.17\n"
          ]
        }
      ],
      "source": [
        "!pip install youtube-dl"
      ]
    },
    {
      "cell_type": "code",
      "source": [
        "!pip install pytube"
      ],
      "metadata": {
        "colab": {
          "base_uri": "https://localhost:8080/"
        },
        "id": "gBoz-leBZHKZ",
        "outputId": "5a538043-18fd-4bd8-a361-05b4c5a921b8"
      },
      "execution_count": 2,
      "outputs": [
        {
          "output_type": "stream",
          "name": "stdout",
          "text": [
            "Collecting pytube\n",
            "  Downloading pytube-15.0.0-py3-none-any.whl (57 kB)\n",
            "\u001b[2K     \u001b[90m━━━━━━━━━━━━━━━━━━━━━━━━━━━━━━━━━━━━━━━━\u001b[0m \u001b[32m57.6/57.6 kB\u001b[0m \u001b[31m1.5 MB/s\u001b[0m eta \u001b[36m0:00:00\u001b[0m\n",
            "\u001b[?25hInstalling collected packages: pytube\n",
            "Successfully installed pytube-15.0.0\n"
          ]
        }
      ]
    },
    {
      "cell_type": "code",
      "source": [
        "!pip install yt-dlp\n",
        "video_url = \"https://www.youtube.com/watch?v=y3RIHnK0_NE&list=PPSV\"\n",
        "!yt-dlp -f best $video_url"
      ],
      "metadata": {
        "colab": {
          "base_uri": "https://localhost:8080/"
        },
        "id": "wenHgGMqa-1l",
        "outputId": "395a00fa-4acb-4bd0-8f9f-1852101cb616"
      },
      "execution_count": 3,
      "outputs": [
        {
          "output_type": "stream",
          "name": "stdout",
          "text": [
            "Collecting yt-dlp\n",
            "  Downloading yt_dlp-2024.4.9-py3-none-any.whl (3.1 MB)\n",
            "\u001b[2K     \u001b[90m━━━━━━━━━━━━━━━━━━━━━━━━━━━━━━━━━━━━━━━━\u001b[0m \u001b[32m3.1/3.1 MB\u001b[0m \u001b[31m20.5 MB/s\u001b[0m eta \u001b[36m0:00:00\u001b[0m\n",
            "\u001b[?25hCollecting brotli (from yt-dlp)\n",
            "  Downloading Brotli-1.1.0-cp310-cp310-manylinux_2_5_x86_64.manylinux1_x86_64.manylinux_2_12_x86_64.manylinux2010_x86_64.whl (3.0 MB)\n",
            "\u001b[2K     \u001b[90m━━━━━━━━━━━━━━━━━━━━━━━━━━━━━━━━━━━━━━━━\u001b[0m \u001b[32m3.0/3.0 MB\u001b[0m \u001b[31m45.0 MB/s\u001b[0m eta \u001b[36m0:00:00\u001b[0m\n",
            "\u001b[?25hRequirement already satisfied: certifi in /usr/local/lib/python3.10/dist-packages (from yt-dlp) (2024.2.2)\n",
            "Collecting mutagen (from yt-dlp)\n",
            "  Downloading mutagen-1.47.0-py3-none-any.whl (194 kB)\n",
            "\u001b[2K     \u001b[90m━━━━━━━━━━━━━━━━━━━━━━━━━━━━━━━━━━━━━━━━\u001b[0m \u001b[32m194.4/194.4 kB\u001b[0m \u001b[31m15.1 MB/s\u001b[0m eta \u001b[36m0:00:00\u001b[0m\n",
            "\u001b[?25hCollecting pycryptodomex (from yt-dlp)\n",
            "  Downloading pycryptodomex-3.20.0-cp35-abi3-manylinux_2_17_x86_64.manylinux2014_x86_64.whl (2.1 MB)\n",
            "\u001b[2K     \u001b[90m━━━━━━━━━━━━━━━━━━━━━━━━━━━━━━━━━━━━━━━━\u001b[0m \u001b[32m2.1/2.1 MB\u001b[0m \u001b[31m56.1 MB/s\u001b[0m eta \u001b[36m0:00:00\u001b[0m\n",
            "\u001b[?25hRequirement already satisfied: requests<3,>=2.31.0 in /usr/local/lib/python3.10/dist-packages (from yt-dlp) (2.31.0)\n",
            "Requirement already satisfied: urllib3<3,>=1.26.17 in /usr/local/lib/python3.10/dist-packages (from yt-dlp) (2.0.7)\n",
            "Collecting websockets>=12.0 (from yt-dlp)\n",
            "  Downloading websockets-12.0-cp310-cp310-manylinux_2_5_x86_64.manylinux1_x86_64.manylinux_2_17_x86_64.manylinux2014_x86_64.whl (130 kB)\n",
            "\u001b[2K     \u001b[90m━━━━━━━━━━━━━━━━━━━━━━━━━━━━━━━━━━━━━━━━\u001b[0m \u001b[32m130.2/130.2 kB\u001b[0m \u001b[31m13.2 MB/s\u001b[0m eta \u001b[36m0:00:00\u001b[0m\n",
            "\u001b[?25hRequirement already satisfied: charset-normalizer<4,>=2 in /usr/local/lib/python3.10/dist-packages (from requests<3,>=2.31.0->yt-dlp) (3.3.2)\n",
            "Requirement already satisfied: idna<4,>=2.5 in /usr/local/lib/python3.10/dist-packages (from requests<3,>=2.31.0->yt-dlp) (3.7)\n",
            "Installing collected packages: brotli, websockets, pycryptodomex, mutagen, yt-dlp\n",
            "Successfully installed brotli-1.1.0 mutagen-1.47.0 pycryptodomex-3.20.0 websockets-12.0 yt-dlp-2024.4.9\n",
            "\u001b[0;33mWARNING:\u001b[0m \"-f best\" selects the best pre-merged format which is often not the best option.\n",
            "         To let yt-dlp download and merge the best available formats, simply do not pass any format selection.\n",
            "         If you know what you are doing and want only the best pre-merged format, use \"-f b\" instead to suppress this warning\n",
            "[youtube] Extracting URL: https://www.youtube.com/watch?v=y3RIHnK0_NE\n",
            "[youtube] y3RIHnK0_NE: Downloading webpage\n",
            "[youtube] y3RIHnK0_NE: Downloading ios player API JSON\n",
            "[youtube] y3RIHnK0_NE: Downloading android player API JSON\n",
            "[youtube] y3RIHnK0_NE: Downloading m3u8 information\n",
            "[info] y3RIHnK0_NE: Downloading 1 format(s): 22\n",
            "[download] Destination: New Robot Makes Soldiers Obsolete (Corridor Digital) [y3RIHnK0_NE].mp4\n",
            "\u001b[K[download] 100% of   36.58MiB in \u001b[1;37m00:00:00\u001b[0m at \u001b[0;32m43.93MiB/s\u001b[0m\n"
          ]
        }
      ]
    },
    {
      "cell_type": "code",
      "source": [
        "import subprocess\n",
        "import re\n",
        "\n",
        "def ffmpeg_parse_infos(filename, print_infos=False, check_duration=True, fps_source=None):\n",
        "    \"\"\" Gets a dictionary of infos on the video in filename.\n",
        "\n",
        "    Returns duration, video_fps, video_size, audio_fps, audio_nbytes, audio_nchannels\n",
        "    \"\"\"\n",
        "\n",
        "    # get duration with ffprobe\n",
        "    try:\n",
        "        # Run ffprobe command\n",
        "        if check_duration:\n",
        "            cmd = [\"ffprobe\", \"-show_streams\", \"-select_streams\", \"v:0\", \"-show_entries\", \"stream=width,height,duration,r_frame_rate\", \"-v\", \"error\", \"-of\", \"default=noprint_wrappers=1:nokey=1\", filename]\n",
        "        else:\n",
        "            cmd = [\"ffprobe\", \"-show_streams\", \"-select_streams\", \"v:0\", \"-show_entries\", \"stream=width,height,r_frame_rate\", \"-v\", \"error\", \"-of\", \"default=noprint_wrappers=1:nokey=1\", filename]\n",
        "\n",
        "        result = subprocess.run(cmd, stdout=subprocess.PIPE, stderr=subprocess.PIPE)\n",
        "        if result.returncode:\n",
        "            raise ValueError(result.stderr.decode('utf8'))\n",
        "        infos = result.stdout.decode('utf8')\n",
        "    except FileNotFoundError as err:\n",
        "        raise FileNotFoundError(\"ffprobe not found. Please download and install ffmpeg/ffprobe from https://ffmpeg.org\") from err\n",
        "\n",
        "    # Initialize variables\n",
        "    duration = None\n",
        "    video_fps = None\n",
        "    video_size = None\n",
        "\n",
        "    # Parse the infos\n",
        "    for line in infos.split('\\n'):\n",
        "        if \"duration\" in line:\n",
        "            duration = float(line.strip())\n",
        "        elif \"r_frame_rate\" in line:\n",
        "            fps_match = re.search(r'(\\d+)/(\\d+)', line)\n",
        "            if fps_match:\n",
        "                num = float(fps_match.group(1))\n",
        "                denom = float(fps_match.group(2))\n",
        "                video_fps = num / denom\n",
        "        elif \"width\" in line and \"height\" in line:\n",
        "            size_match = re.search(r'(\\d+)x(\\d+)', line)\n",
        "            if size_match:\n",
        "                width = int(size_match.group(1))\n",
        "                height = int(size_match.group(2))\n",
        "                video_size = (width, height)\n",
        "\n",
        "    # Handle cases where fps is not available\n",
        "    if fps_source == 'audio':\n",
        "        # Try to get the FPS from audio stream\n",
        "        try:\n",
        "            cmd = [\"ffprobe\", \"-show_streams\", \"-select_streams\", \"a:0\", \"-show_entries\", \"stream=sample_rate\", \"-v\", \"error\", \"-of\", \"default=noprint_wrappers=1:nokey=1\", filename]\n",
        "            result = subprocess.run(cmd, stdout=subprocess.PIPE, stderr=subprocess.PIPE)\n",
        "            if result.returncode:\n",
        "                raise ValueError(result.stderr.decode('utf8'))\n",
        "            audio_infos = result.stdout.decode('utf8')\n",
        "            for line in audio_infos.split('\\n'):\n",
        "                if \"sample_rate\" in line:\n",
        "                    audio_fps = int(line.strip())\n",
        "                    if duration:\n",
        "                        video_fps = audio_fps  # Set video FPS to audio FPS if available\n",
        "                        break\n",
        "        except Exception as e:\n",
        "            print(\"Failed to get audio sample rate:\", e)\n",
        "    elif fps_source == 'frame_count':\n",
        "        # Calculate FPS based on frame count and duration\n",
        "        if duration and frame_count:\n",
        "            video_fps = frame_count / duration\n",
        "\n",
        "    return {'duration': duration, 'video_fps': video_fps, 'video_size': video_size}\n"
      ],
      "metadata": {
        "id": "IvbRmvz20ZsU"
      },
      "execution_count": 8,
      "outputs": []
    },
    {
      "cell_type": "code",
      "source": [
        "import cv2\n",
        "import numpy as np\n",
        "from moviepy.editor import VideoFileClip, concatenate_videoclips, TextClip\n",
        "\n",
        "# Function to create text overlay\n",
        "def create_text_clip(text, duration):\n",
        "    return TextClip(text, fontsize=50, color='white').set_duration(duration)\n",
        "\n",
        "# Function to extract interesting clips using computer vision\n",
        "def extract_interesting_clips(video_path):\n",
        "    # Open the video\n",
        "    cap = cv2.VideoCapture(video_path)\n",
        "\n",
        "    # Get video properties\n",
        "    fps = cap.get(cv2.CAP_PROP_FPS)\n",
        "    frame_count = int(cap.get(cv2.CAP_PROP_FRAME_COUNT))\n",
        "    frame_width = int(cap.get(cv2.CAP_PROP_FRAME_WIDTH))\n",
        "    frame_height = int(cap.get(cv2.CAP_PROP_FRAME_HEIGHT))\n",
        "\n",
        "    # List to store interesting clips\n",
        "    interesting_clips = []\n",
        "\n",
        "    # Sample processing (replace with actual computer vision analysis)\n",
        "    for frame_number in [150, 450, 750]:\n",
        "        cap.set(cv2.CAP_PROP_POS_FRAMES, frame_number)\n",
        "        ret, frame = cap.read()\n",
        "        if ret:\n",
        "            interesting_clips.append(frame)\n",
        "\n",
        "    cap.release()\n",
        "\n",
        "    return interesting_clips, fps, (frame_width, frame_height)\n",
        "\n",
        "# Function to create short video with transitions and text overlays\n",
        "def create_short_video(interesting_clips, music_path, output_path, fps, video_resolution):\n",
        "    # Load music\n",
        "    music = VideoFileClip(music_path)\n",
        "\n",
        "    # Concatenate interesting clips\n",
        "    clips = [VideoFileClip(cv2.VideoCapture(frame), fps=fps) for frame in interesting_clips]\n",
        "    short_video = concatenate_videoclips(clips)\n",
        "\n",
        "    # Add music\n",
        "    short_video = short_video.set_audio(music.audio)\n",
        "\n",
        "    # Add text overlays\n",
        "    text_clips = [\n",
        "        create_text_clip(\"Clip 1\", 4),\n",
        "        create_text_clip(\"Clip 2\", 5),\n",
        "        create_text_clip(\"Clip 3\", 5)\n",
        "    ]\n",
        "\n",
        "    final_video = concatenate_videoclips([short_video] + text_clips, method=\"compose\")\n",
        "\n",
        "    # Set aspect ratio to 9:16\n",
        "    final_video = final_video.resize(height=video_resolution[1], width=video_resolution[0])\n",
        "\n",
        "    # Export final video\n",
        "    final_video.write_videofile(output_path, fps=fps)\n",
        "\n",
        "# Example usage\n",
        "video_path = 'path_to_longer_video.mp4'\n",
        "music_path = 'path_to_music.mp3'\n",
        "output_path = 'output_short_video.mp4'\n",
        "\n",
        "# Extract interesting clips using computer vision\n",
        "interesting_clips, fps, video_resolution = extract_interesting_clips(video_path)\n",
        "\n",
        "# Create short video with transitions and text overlays\n",
        "create_short_video(interesting_clips, music_path, output_path, fps, video_resolution)\n",
        "\n",
        "# Display the final short video in Google Colab\n",
        "from IPython.display import Video\n",
        "Video(output_path)\n"
      ],
      "metadata": {
        "id": "XcKvQa_T1Xqo"
      },
      "execution_count": null,
      "outputs": []
    }
  ]
}